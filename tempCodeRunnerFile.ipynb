plt.figure(figsize=(7,7))
plt.imshow(bg, interpolation='none', cmap='gray')
plt.show()